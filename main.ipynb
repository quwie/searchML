{
 "cells": [
  {
   "cell_type": "markdown",
   "id": "765b6332-1aa0-4ed2-a297-f1072e10875b",
   "metadata": {},
   "source": [
    "# Импорт всех библиотек"
   ]
  },
  {
   "cell_type": "code",
   "execution_count": 11,
   "id": "0ddf9c61-2efb-4710-b3f5-c9b1dcbb1b6b",
   "metadata": {
    "execution": {
     "iopub.execute_input": "2023-11-25T14:16:07.167222Z",
     "iopub.status.busy": "2023-11-25T14:16:07.166346Z",
     "iopub.status.idle": "2023-11-25T14:16:07.198370Z",
     "shell.execute_reply": "2023-11-25T14:16:07.197098Z",
     "shell.execute_reply.started": "2023-11-25T14:16:07.167170Z"
    },
    "tags": []
   },
   "outputs": [],
   "source": [
    "import json\n",
    "import math\n",
    "import os\n",
    "import time\n",
    "from functools import partial\n",
    "from urllib.parse import urlencode\n",
    "\n",
    "import faiss\n",
    "import numpy as np\n",
    "import pandas as pd\n",
    "import pyarrow.parquet as pq\n",
    "import requests\n",
    "from catboost import CatBoostClassifier, CatBoostRanker, Pool\n",
    "from faiss import read_index, write_index\n",
    "from sentence_transformers import SentenceTransformer\n",
    "from progress.bar import IncrementalBar"
   ]
  },
  {
   "cell_type": "markdown",
   "id": "ad437027-0d3b-48b8-8e42-844289fc6572",
   "metadata": {},
   "source": [
    "# Подгружаем модель \"ranker.ckpt\""
   ]
  },
  {
   "cell_type": "code",
   "execution_count": 2,
   "id": "2071757d-c87c-449c-a9e1-34769cde7e5b",
   "metadata": {
    "execution": {
     "iopub.execute_input": "2023-11-25T11:37:31.261979Z",
     "iopub.status.busy": "2023-11-25T11:37:31.260922Z",
     "iopub.status.idle": "2023-11-25T11:37:31.327501Z",
     "shell.execute_reply": "2023-11-25T11:37:31.326624Z",
     "shell.execute_reply.started": "2023-11-25T11:37:31.261924Z"
    },
    "tags": []
   },
   "outputs": [
    {
     "data": {
      "text/plain": [
       "<catboost.core.CatBoostRanker at 0x7fdb2a2fbbb0>"
      ]
     },
     "execution_count": 2,
     "metadata": {},
     "output_type": "execute_result"
    }
   ],
   "source": [
    "model = CatBoostRanker()\n",
    "model.load_model(\"ranker.ckpt\")"
   ]
  },
  {
   "cell_type": "markdown",
   "id": "e02179e5-213d-471f-b431-706f1fb0d0df",
   "metadata": {
    "tags": []
   },
   "source": [
    "# Загружаем индексы faiss"
   ]
  },
  {
   "cell_type": "code",
   "execution_count": 3,
   "id": "6fde8f02-c114-47d4-8e50-f57411172d15",
   "metadata": {
    "execution": {
     "iopub.execute_input": "2023-11-25T11:37:34.423771Z",
     "iopub.status.busy": "2023-11-25T11:37:34.422986Z",
     "iopub.status.idle": "2023-11-25T11:38:00.053441Z",
     "shell.execute_reply": "2023-11-25T11:38:00.052568Z",
     "shell.execute_reply.started": "2023-11-25T11:37:34.423733Z"
    },
    "tags": []
   },
   "outputs": [
    {
     "data": {
      "text/plain": [
       "(True, 7000000)"
      ]
     },
     "execution_count": 3,
     "metadata": {},
     "output_type": "execute_result"
    }
   ],
   "source": [
    "index = read_index(\"candidates.index\")\n",
    "index.is_trained, index.ntotal"
   ]
  },
  {
   "cell_type": "markdown",
   "id": "d7b0f133-90a0-40f2-a76a-862d591c8077",
   "metadata": {},
   "source": [
    "# Подгружаем \"ind2videoid.json\""
   ]
  },
  {
   "cell_type": "code",
   "execution_count": 4,
   "id": "3270afd1-e87c-4e54-8ea9-b99ae28378ec",
   "metadata": {
    "execution": {
     "iopub.execute_input": "2023-11-25T11:38:20.308270Z",
     "iopub.status.busy": "2023-11-25T11:38:20.307343Z",
     "iopub.status.idle": "2023-11-25T11:38:32.596507Z",
     "shell.execute_reply": "2023-11-25T11:38:32.595716Z",
     "shell.execute_reply.started": "2023-11-25T11:38:20.308229Z"
    },
    "tags": []
   },
   "outputs": [],
   "source": [
    "with open(\"ind2videoid.json\", \"r\") as f:\n",
    "    ind2videoid = json.load(f)"
   ]
  },
  {
   "cell_type": "markdown",
   "id": "2663d289-a914-43f0-8490-b2406fab4021",
   "metadata": {},
   "source": [
    "# Подгружаем тестовый датасет"
   ]
  },
  {
   "cell_type": "code",
   "execution_count": 5,
   "id": "43fcdd44-917a-45b6-8093-20072928a2a5",
   "metadata": {
    "execution": {
     "iopub.execute_input": "2023-11-25T11:38:42.677196Z",
     "iopub.status.busy": "2023-11-25T11:38:42.676453Z",
     "iopub.status.idle": "2023-11-25T11:38:42.694824Z",
     "shell.execute_reply": "2023-11-25T11:38:42.694064Z",
     "shell.execute_reply.started": "2023-11-25T11:38:42.677160Z"
    },
    "tags": []
   },
   "outputs": [],
   "source": [
    "import csv\n",
    "\n",
    "queries = []\n",
    "with open(\"test_dataset_submission_queries.csv\", mode=\"r\", newline=\"\") as csvfile:\n",
    "    reader = csv.DictReader(csvfile)\n",
    "    for row in reader:\n",
    "        queries.append(row[\"query\"])"
   ]
  },
  {
   "cell_type": "markdown",
   "id": "6a4047d4-487f-42de-b31b-737780b7e443",
   "metadata": {},
   "source": [
    "# Загружаем модель SentenceTransformer"
   ]
  },
  {
   "cell_type": "code",
   "execution_count": 6,
   "id": "dadce5b9-2c78-400a-8fb1-5789804d408c",
   "metadata": {
    "execution": {
     "iopub.execute_input": "2023-11-25T11:38:47.295274Z",
     "iopub.status.busy": "2023-11-25T11:38:47.294467Z",
     "iopub.status.idle": "2023-11-25T11:38:57.629453Z",
     "shell.execute_reply": "2023-11-25T11:38:57.628596Z",
     "shell.execute_reply.started": "2023-11-25T11:38:47.295225Z"
    },
    "tags": []
   },
   "outputs": [
    {
     "data": {
      "application/vnd.jupyter.widget-view+json": {
       "model_id": "7a093dec640c4f59b09f010f4707f4bb",
       "version_major": 2,
       "version_minor": 0
      },
      "text/plain": [
       ".gitattributes:   0%|          | 0.00/1.23k [00:00<?, ?B/s]"
      ]
     },
     "metadata": {},
     "output_type": "display_data"
    },
    {
     "data": {
      "application/vnd.jupyter.widget-view+json": {
       "model_id": "6968607404934469ba6b5ed0d06b21b9",
       "version_major": 2,
       "version_minor": 0
      },
      "text/plain": [
       ".gitignore:   0%|          | 0.00/6.00 [00:00<?, ?B/s]"
      ]
     },
     "metadata": {},
     "output_type": "display_data"
    },
    {
     "data": {
      "application/vnd.jupyter.widget-view+json": {
       "model_id": "330d534a36fb4ed9b36662e4c1bb78fd",
       "version_major": 2,
       "version_minor": 0
      },
      "text/plain": [
       "1_Pooling/config.json:   0%|          | 0.00/190 [00:00<?, ?B/s]"
      ]
     },
     "metadata": {},
     "output_type": "display_data"
    },
    {
     "data": {
      "application/vnd.jupyter.widget-view+json": {
       "model_id": "1fff3a4374114a97ba9aa9e25b232867",
       "version_major": 2,
       "version_minor": 0
      },
      "text/plain": [
       "README.md:   0%|          | 0.00/2.19k [00:00<?, ?B/s]"
      ]
     },
     "metadata": {},
     "output_type": "display_data"
    },
    {
     "data": {
      "application/vnd.jupyter.widget-view+json": {
       "model_id": "cb20ba8e9cc54aa691419a4af80feadc",
       "version_major": 2,
       "version_minor": 0
      },
      "text/plain": [
       "config.json:   0%|          | 0.00/693 [00:00<?, ?B/s]"
      ]
     },
     "metadata": {},
     "output_type": "display_data"
    },
    {
     "data": {
      "application/vnd.jupyter.widget-view+json": {
       "model_id": "2451a3f50a19472fa20536f1639b2b07",
       "version_major": 2,
       "version_minor": 0
      },
      "text/plain": [
       "model.safetensors:   0%|          | 0.00/118M [00:00<?, ?B/s]"
      ]
     },
     "metadata": {},
     "output_type": "display_data"
    },
    {
     "data": {
      "application/vnd.jupyter.widget-view+json": {
       "model_id": "a37e7b667186459c91633d8098e6332d",
       "version_major": 2,
       "version_minor": 0
      },
      "text/plain": [
       "pytorch_model.bin:   0%|          | 0.00/118M [00:00<?, ?B/s]"
      ]
     },
     "metadata": {},
     "output_type": "display_data"
    },
    {
     "data": {
      "application/vnd.jupyter.widget-view+json": {
       "model_id": "605bae551c5142a2b78d86f392e471a3",
       "version_major": 2,
       "version_minor": 0
      },
      "text/plain": [
       "sentence_bert_config.json:   0%|          | 0.00/54.0 [00:00<?, ?B/s]"
      ]
     },
     "metadata": {},
     "output_type": "display_data"
    },
    {
     "data": {
      "application/vnd.jupyter.widget-view+json": {
       "model_id": "d4fba35649984dfa94581211136ae360",
       "version_major": 2,
       "version_minor": 0
      },
      "text/plain": [
       "special_tokens_map.json:   0%|          | 0.00/112 [00:00<?, ?B/s]"
      ]
     },
     "metadata": {},
     "output_type": "display_data"
    },
    {
     "data": {
      "application/vnd.jupyter.widget-view+json": {
       "model_id": "a2c9bb37790f45f5b59e45e792d2130f",
       "version_major": 2,
       "version_minor": 0
      },
      "text/plain": [
       "tinybert-ru-labse-adapter-v2.pt:   0%|          | 0.00/963k [00:00<?, ?B/s]"
      ]
     },
     "metadata": {},
     "output_type": "display_data"
    },
    {
     "data": {
      "application/vnd.jupyter.widget-view+json": {
       "model_id": "8e00e5f6bf914323a042afa681974329",
       "version_major": 2,
       "version_minor": 0
      },
      "text/plain": [
       "tokenizer.json:   0%|          | 0.00/1.74M [00:00<?, ?B/s]"
      ]
     },
     "metadata": {},
     "output_type": "display_data"
    },
    {
     "data": {
      "application/vnd.jupyter.widget-view+json": {
       "model_id": "505f10ef9f6f446bb3450d385e947fcf",
       "version_major": 2,
       "version_minor": 0
      },
      "text/plain": [
       "tokenizer_config.json:   0%|          | 0.00/401 [00:00<?, ?B/s]"
      ]
     },
     "metadata": {},
     "output_type": "display_data"
    },
    {
     "data": {
      "application/vnd.jupyter.widget-view+json": {
       "model_id": "387f210a45aa4cd4bfb513e9f1ea407f",
       "version_major": 2,
       "version_minor": 0
      },
      "text/plain": [
       "vocab.txt:   0%|          | 0.00/1.08M [00:00<?, ?B/s]"
      ]
     },
     "metadata": {},
     "output_type": "display_data"
    },
    {
     "data": {
      "application/vnd.jupyter.widget-view+json": {
       "model_id": "9fb8acbbb39949d694cd43eeecc8d751",
       "version_major": 2,
       "version_minor": 0
      },
      "text/plain": [
       "modules.json:   0%|          | 0.00/349 [00:00<?, ?B/s]"
      ]
     },
     "metadata": {},
     "output_type": "display_data"
    }
   ],
   "source": [
    "st_model = SentenceTransformer(\"cointegrated/rubert-tiny2\", device=\"cuda\")"
   ]
  },
  {
   "cell_type": "code",
   "execution_count": 7,
   "id": "1c29b012-0ed9-4a83-aed6-986032fb95f3",
   "metadata": {
    "execution": {
     "iopub.execute_input": "2023-11-25T11:39:03.661182Z",
     "iopub.status.busy": "2023-11-25T11:39:03.660412Z",
     "iopub.status.idle": "2023-11-25T11:40:42.574967Z",
     "shell.execute_reply": "2023-11-25T11:40:42.574138Z",
     "shell.execute_reply.started": "2023-11-25T11:39:03.661145Z"
    },
    "tags": []
   },
   "outputs": [],
   "source": [
    "videos_df = pd.read_parquet(\n",
    "    \"videos.parquet\", engine=\"fastparquet\", columns=[\"video_id\", \"video_title\"]\n",
    ")"
   ]
  },
  {
   "cell_type": "code",
   "execution_count": 10,
   "id": "03b5ea1e-9e6f-49d1-b7de-0bade4a26ac3",
   "metadata": {
    "execution": {
     "iopub.execute_input": "2023-11-25T14:09:06.936427Z",
     "iopub.status.busy": "2023-11-25T14:09:06.935554Z",
     "iopub.status.idle": "2023-11-25T14:15:10.228600Z",
     "shell.execute_reply": "2023-11-25T14:15:10.227750Z",
     "shell.execute_reply.started": "2023-11-25T14:09:06.936382Z"
    },
    "tags": []
   },
   "outputs": [
    {
     "data": {
      "text/plain": [
       "<progress.bar.Bar at 0x7fd818247e20>"
      ]
     },
     "metadata": {},
     "output_type": "display_data"
    },
    {
     "ename": "KeyboardInterrupt",
     "evalue": "",
     "output_type": "error",
     "traceback": [
      "\u001b[0;31m---------------------------------------------------------------------------\u001b[0m",
      "\u001b[0;31mKeyboardInterrupt\u001b[0m                         Traceback (most recent call last)",
      "\u001b[0;32m<timed exec>\u001b[0m in \u001b[0;36m<module>\u001b[0;34m\u001b[0m\n",
      "\u001b[0;32m<timed exec>\u001b[0m in \u001b[0;36msearch_videos\u001b[0;34m(query, topk)\u001b[0m\n",
      "\u001b[0;32m~/.local/lib/python3.10/site-packages/faiss/__init__.py\u001b[0m in \u001b[0;36mreplacement_search\u001b[0;34m(self, x, k, D, I)\u001b[0m\n\u001b[1;32m    320\u001b[0m             \u001b[0;32massert\u001b[0m \u001b[0mI\u001b[0m\u001b[0;34m.\u001b[0m\u001b[0mshape\u001b[0m \u001b[0;34m==\u001b[0m \u001b[0;34m(\u001b[0m\u001b[0mn\u001b[0m\u001b[0;34m,\u001b[0m \u001b[0mk\u001b[0m\u001b[0;34m)\u001b[0m\u001b[0;34m\u001b[0m\u001b[0;34m\u001b[0m\u001b[0m\n\u001b[1;32m    321\u001b[0m \u001b[0;34m\u001b[0m\u001b[0m\n\u001b[0;32m--> 322\u001b[0;31m         \u001b[0mself\u001b[0m\u001b[0;34m.\u001b[0m\u001b[0msearch_c\u001b[0m\u001b[0;34m(\u001b[0m\u001b[0mn\u001b[0m\u001b[0;34m,\u001b[0m \u001b[0mswig_ptr\u001b[0m\u001b[0;34m(\u001b[0m\u001b[0mx\u001b[0m\u001b[0;34m)\u001b[0m\u001b[0;34m,\u001b[0m \u001b[0mk\u001b[0m\u001b[0;34m,\u001b[0m \u001b[0mswig_ptr\u001b[0m\u001b[0;34m(\u001b[0m\u001b[0mD\u001b[0m\u001b[0;34m)\u001b[0m\u001b[0;34m,\u001b[0m \u001b[0mswig_ptr\u001b[0m\u001b[0;34m(\u001b[0m\u001b[0mI\u001b[0m\u001b[0;34m)\u001b[0m\u001b[0;34m)\u001b[0m\u001b[0;34m\u001b[0m\u001b[0;34m\u001b[0m\u001b[0m\n\u001b[0m\u001b[1;32m    323\u001b[0m         \u001b[0;32mreturn\u001b[0m \u001b[0mD\u001b[0m\u001b[0;34m,\u001b[0m \u001b[0mI\u001b[0m\u001b[0;34m\u001b[0m\u001b[0;34m\u001b[0m\u001b[0m\n\u001b[1;32m    324\u001b[0m \u001b[0;34m\u001b[0m\u001b[0m\n",
      "\u001b[0;32m~/.local/lib/python3.10/site-packages/faiss/swigfaiss.py\u001b[0m in \u001b[0;36msearch\u001b[0;34m(self, n, x, k, distances, labels)\u001b[0m\n\u001b[1;32m   2144\u001b[0m \u001b[0;34m\u001b[0m\u001b[0m\n\u001b[1;32m   2145\u001b[0m     \u001b[0;32mdef\u001b[0m \u001b[0msearch\u001b[0m\u001b[0;34m(\u001b[0m\u001b[0mself\u001b[0m\u001b[0;34m,\u001b[0m \u001b[0mn\u001b[0m\u001b[0;34m,\u001b[0m \u001b[0mx\u001b[0m\u001b[0;34m,\u001b[0m \u001b[0mk\u001b[0m\u001b[0;34m,\u001b[0m \u001b[0mdistances\u001b[0m\u001b[0;34m,\u001b[0m \u001b[0mlabels\u001b[0m\u001b[0;34m)\u001b[0m\u001b[0;34m:\u001b[0m\u001b[0;34m\u001b[0m\u001b[0;34m\u001b[0m\u001b[0m\n\u001b[0;32m-> 2146\u001b[0;31m         \u001b[0;32mreturn\u001b[0m \u001b[0m_swigfaiss\u001b[0m\u001b[0;34m.\u001b[0m\u001b[0mIndexFlat_search\u001b[0m\u001b[0;34m(\u001b[0m\u001b[0mself\u001b[0m\u001b[0;34m,\u001b[0m \u001b[0mn\u001b[0m\u001b[0;34m,\u001b[0m \u001b[0mx\u001b[0m\u001b[0;34m,\u001b[0m \u001b[0mk\u001b[0m\u001b[0;34m,\u001b[0m \u001b[0mdistances\u001b[0m\u001b[0;34m,\u001b[0m \u001b[0mlabels\u001b[0m\u001b[0;34m)\u001b[0m\u001b[0;34m\u001b[0m\u001b[0;34m\u001b[0m\u001b[0m\n\u001b[0m\u001b[1;32m   2147\u001b[0m \u001b[0;34m\u001b[0m\u001b[0m\n\u001b[1;32m   2148\u001b[0m     \u001b[0;32mdef\u001b[0m \u001b[0mrange_search\u001b[0m\u001b[0;34m(\u001b[0m\u001b[0mself\u001b[0m\u001b[0;34m,\u001b[0m \u001b[0mn\u001b[0m\u001b[0;34m,\u001b[0m \u001b[0mx\u001b[0m\u001b[0;34m,\u001b[0m \u001b[0mradius\u001b[0m\u001b[0;34m,\u001b[0m \u001b[0mresult\u001b[0m\u001b[0;34m)\u001b[0m\u001b[0;34m:\u001b[0m\u001b[0;34m\u001b[0m\u001b[0;34m\u001b[0m\u001b[0m\n",
      "\u001b[0;31mKeyboardInterrupt\u001b[0m: "
     ]
    }
   ],
   "source": [
    "%%time\n",
    "def search_videos(query, topk=5):\n",
    "    query_embedding = st_model.encode([query])[0]\n",
    "    _, faiss_ind = index.search(np.array([query_embedding]), topk)\n",
    "\n",
    "    videos_ids = [ind2videoid[f\"{id}\"] for id in faiss_ind[0]]\n",
    "\n",
    "    videos_info = videos_df[videos_df[\"video_id\"].isin(videos_ids)]\n",
    "\n",
    "    return videos_info\n",
    "\n",
    "i = 0\n",
    "\n",
    "with open('submission.csv', 'w', encoding='UTF8', newline='') as f:\n",
    "    writer = csv.writer(f, delimiter =';')\n",
    "    writer.writerow([\"query\", \"video_id\"])\n",
    "    for query in queries:\n",
    "        i += 1\n",
    "        print(i)\n",
    "        videos = search_videos(query, topk=5).to_numpy()\n",
    "        for video in videos:\n",
    "            writer.writerow([query, video[0]])\n"
   ]
  },
  {
   "cell_type": "code",
   "execution_count": null,
   "id": "380da960-e708-4615-ba66-a9da8a033db6",
   "metadata": {},
   "outputs": [],
   "source": []
  },
  {
   "cell_type": "code",
   "execution_count": null,
   "id": "4ab1c56e-bbbd-4d0b-a3be-a6421d8d0b7a",
   "metadata": {},
   "outputs": [],
   "source": []
  }
 ],
 "metadata": {
  "kernelspec": {
   "display_name": "DataSphere Kernel",
   "language": "python",
   "name": "python3"
  },
  "language_info": {
   "codemirror_mode": {
    "name": "ipython",
    "version": 3
   },
   "file_extension": ".py",
   "mimetype": "text/x-python",
   "name": "python",
   "nbconvert_exporter": "python",
   "pygments_lexer": "ipython3",
   "version": "3.7.7"
  }
 },
 "nbformat": 4,
 "nbformat_minor": 5
}
