{
 "cells": [
  {
   "cell_type": "markdown",
   "id": "765b6332-1aa0-4ed2-a297-f1072e10875b",
   "metadata": {},
   "source": [
    "# Импорт всех библиотек"
   ]
  },
  {
   "cell_type": "code",
   "execution_count": 1,
   "id": "0ddf9c61-2efb-4710-b3f5-c9b1dcbb1b6b",
   "metadata": {
    "execution": {
     "iopub.execute_input": "2023-11-25T04:05:52.363402Z",
     "iopub.status.busy": "2023-11-25T04:05:52.362344Z",
     "iopub.status.idle": "2023-11-25T04:06:06.671109Z",
     "shell.execute_reply": "2023-11-25T04:06:06.669926Z",
     "shell.execute_reply.started": "2023-11-25T04:05:52.363344Z"
    },
    "tags": []
   },
   "outputs": [],
   "source": [
    "import json\n",
    "import math\n",
    "import os\n",
    "import time\n",
    "from functools import partial\n",
    "from urllib.parse import urlencode\n",
    "\n",
    "import faiss\n",
    "import numpy as np\n",
    "import pandas as pd\n",
    "import pyarrow.parquet as pq\n",
    "import requests\n",
    "from catboost import CatBoostRanker, Pool, CatBoostClassifier\n",
    "from faiss import read_index, write_index\n",
    "from sentence_transformers import SentenceTransformer"
   ]
  },
  {
   "cell_type": "markdown",
   "id": "ad437027-0d3b-48b8-8e42-844289fc6572",
   "metadata": {},
   "source": [
    "# Подгружаем модель \"ranker.ckpt\""
   ]
  },
  {
   "cell_type": "code",
   "execution_count": 2,
   "id": "2071757d-c87c-449c-a9e1-34769cde7e5b",
   "metadata": {
    "execution": {
     "iopub.execute_input": "2023-11-25T04:06:11.198274Z",
     "iopub.status.busy": "2023-11-25T04:06:11.197020Z",
     "iopub.status.idle": "2023-11-25T04:06:11.247999Z",
     "shell.execute_reply": "2023-11-25T04:06:11.246907Z",
     "shell.execute_reply.started": "2023-11-25T04:06:11.198231Z"
    },
    "tags": []
   },
   "outputs": [
    {
     "data": {
      "text/plain": [
       "<catboost.core.CatBoostRanker at 0x7fbacc1f3700>"
      ]
     },
     "execution_count": 2,
     "metadata": {},
     "output_type": "execute_result"
    }
   ],
   "source": [
    "model = CatBoostRanker()\n",
    "model.load_model(\"ranker.ckpt\")"
   ]
  },
  {
   "cell_type": "markdown",
   "id": "e02179e5-213d-471f-b431-706f1fb0d0df",
   "metadata": {},
   "source": [
    "# Загружаем индексы faiss"
   ]
  },
  {
   "cell_type": "code",
   "execution_count": 3,
   "id": "6fde8f02-c114-47d4-8e50-f57411172d15",
   "metadata": {
    "execution": {
     "iopub.execute_input": "2023-11-25T04:06:13.229625Z",
     "iopub.status.busy": "2023-11-25T04:06:13.228925Z",
     "iopub.status.idle": "2023-11-25T04:10:58.965346Z",
     "shell.execute_reply": "2023-11-25T04:10:58.964091Z",
     "shell.execute_reply.started": "2023-11-25T04:06:13.229590Z"
    },
    "tags": []
   },
   "outputs": [
    {
     "data": {
      "text/plain": [
       "(True, 7000000)"
      ]
     },
     "execution_count": 3,
     "metadata": {},
     "output_type": "execute_result"
    }
   ],
   "source": [
    "index = read_index(\"candidates.index\")\n",
    "index.is_trained, index.ntotal"
   ]
  },
  {
   "cell_type": "markdown",
   "id": "d7b0f133-90a0-40f2-a76a-862d591c8077",
   "metadata": {},
   "source": [
    "Подгружаем \"ind2videoid.json\""
   ]
  },
  {
   "cell_type": "code",
   "execution_count": 20,
   "id": "3270afd1-e87c-4e54-8ea9-b99ae28378ec",
   "metadata": {
    "execution": {
     "iopub.execute_input": "2023-11-25T04:26:46.975176Z",
     "iopub.status.busy": "2023-11-25T04:26:46.974100Z",
     "iopub.status.idle": "2023-11-25T04:26:54.205971Z",
     "shell.execute_reply": "2023-11-25T04:26:54.204619Z",
     "shell.execute_reply.started": "2023-11-25T04:26:46.975138Z"
    },
    "tags": []
   },
   "outputs": [],
   "source": [
    "with open(\"ind2videoid.json\", \"r\") as f:\n",
    "    ind2videoid = json.load(f)"
   ]
  },
  {
   "cell_type": "markdown",
   "id": "6a4047d4-487f-42de-b31b-737780b7e443",
   "metadata": {},
   "source": [
    "# Загружаем модель SentenceTransformer"
   ]
  },
  {
   "cell_type": "code",
   "execution_count": 56,
   "id": "dadce5b9-2c78-400a-8fb1-5789804d408c",
   "metadata": {
    "execution": {
     "iopub.execute_input": "2023-11-25T07:48:21.328230Z",
     "iopub.status.busy": "2023-11-25T07:48:21.327324Z",
     "iopub.status.idle": "2023-11-25T07:48:21.801558Z",
     "shell.execute_reply": "2023-11-25T07:48:21.800007Z",
     "shell.execute_reply.started": "2023-11-25T07:48:21.328187Z"
    },
    "tags": []
   },
   "outputs": [],
   "source": [
    "st_model = SentenceTransformer(\"cointegrated/rubert-tiny2\", device=\"cuda\")"
   ]
  },
  {
   "cell_type": "code",
   "execution_count": 26,
   "id": "1c29b012-0ed9-4a83-aed6-986032fb95f3",
   "metadata": {
    "execution": {
     "iopub.execute_input": "2023-11-25T04:42:31.039761Z",
     "iopub.status.busy": "2023-11-25T04:42:31.038753Z",
     "iopub.status.idle": "2023-11-25T04:43:02.572658Z",
     "shell.execute_reply": "2023-11-25T04:43:02.571531Z",
     "shell.execute_reply.started": "2023-11-25T04:42:31.039711Z"
    },
    "tags": []
   },
   "outputs": [],
   "source": [
    "videos_df = pd.read_parquet(\"videos.parquet\", engine=\"fastparquet\", columns=[\"video_id\", \"video_title\"])"
   ]
  },
  {
   "cell_type": "code",
   "execution_count": 58,
   "id": "03b5ea1e-9e6f-49d1-b7de-0bade4a26ac3",
   "metadata": {
    "execution": {
     "iopub.execute_input": "2023-11-25T07:48:52.671604Z",
     "iopub.status.busy": "2023-11-25T07:48:52.670719Z",
     "iopub.status.idle": "2023-11-25T07:48:57.359239Z",
     "shell.execute_reply": "2023-11-25T07:48:57.358022Z",
     "shell.execute_reply.started": "2023-11-25T07:48:52.671568Z"
    },
    "tags": []
   },
   "outputs": [
    {
     "data": {
      "application/vnd.jupyter.widget-view+json": {
       "model_id": "6d90087e28054d1a9d925c8fa1d8b00d",
       "version_major": 2,
       "version_minor": 0
      },
      "text/plain": [
       "Batches:   0%|          | 0/1 [00:00<?, ?it/s]"
      ]
     },
     "metadata": {},
     "output_type": "display_data"
    },
    {
     "name": "stdout",
     "output_type": "stream",
     "text": [
      "                video_id                                    video_title\n",
      "13640049  video_10656562             'Матч ТВ' о матче Россия - Румыния\n",
      "27883696   video_6126551  Обзор матча «Бразилия - Россия». Игра Неймара\n",
      "28347736   video_5254261                       ГОЛЫ МАТЧА РОССИЯ-ШВЕЦИЯ\n",
      "28842623  video_16133201        О перфомансе на матче Россия — Бразилия\n",
      "32401786   video_9424396             Матч Аргентина Россия в Ставрополе\n",
      "CPU times: user 4.72 s, sys: 174 ms, total: 4.9 s\n",
      "Wall time: 4.67 s\n"
     ]
    }
   ],
   "source": [
    "%%time\n",
    "def search_videos(query, topk=5):\n",
    "    query_embedding = st_model.encode([query], show_progress_bar=True)[0]\n",
    "    _, faiss_ind = index.search(np.array([query_embedding]), topk)\n",
    "    \n",
    "    videos_ids = [ind2videoid[f\"{id}\"] for id in faiss_ind[0]]\n",
    "    \n",
    "    videos_info = videos_df[videos_df[\"video_id\"].isin(videos_ids)]\n",
    "    \n",
    "    return videos_info\n",
    "\n",
    "query_to_search = \"Матч Барселона Россия\"\n",
    "videos = search_videos(query_to_search, topk=5)\n",
    "\n",
    "print(videos)"
   ]
  },
  {
   "cell_type": "code",
   "execution_count": null,
   "id": "3d414cfb-efcd-49f0-87dc-df43afb4d1ad",
   "metadata": {},
   "outputs": [],
   "source": []
  }
 ],
 "metadata": {
  "kernelspec": {
   "display_name": "DataSphere Kernel",
   "language": "python",
   "name": "python3"
  },
  "language_info": {
   "codemirror_mode": {
    "name": "ipython",
    "version": 3
   },
   "file_extension": ".py",
   "mimetype": "text/x-python",
   "name": "python",
   "nbconvert_exporter": "python",
   "pygments_lexer": "ipython3",
   "version": "3.7.7"
  }
 },
 "nbformat": 4,
 "nbformat_minor": 5
}
